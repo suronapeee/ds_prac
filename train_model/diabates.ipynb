{
 "cells": [
  {
   "cell_type": "code",
   "execution_count": 4,
   "id": "d61daa5e-f521-4c9f-a3e5-05b9a65cb799",
   "metadata": {},
   "outputs": [
    {
     "name": "stdout",
     "output_type": "stream",
     "text": [
      "(768, 8) (614, 8) (154, 8)\n",
      "Accuracy score of the training data :  0.7833876221498371\n",
      "Accuracy score of the test data :  0.7727272727272727\n"
     ]
    }
   ],
   "source": [
    "## Reading the important modules\n",
    "import numpy as np\n",
    "import pandas as pd\n",
    "from sklearn.model_selection import train_test_split\n",
    "from sklearn import svm\n",
    "from sklearn.metrics import accuracy_score\n",
    "import pickle\n",
    "\n",
    "## loading the diabetes dataset to a pandas DataFrame\n",
    "\n",
    "diabetes_dataset = pd.read_csv('diabetes.csv') \n",
    "\n",
    "## printing the first 5 rows of the dataset\n",
    "\n",
    "diabetes_dataset.head()\n",
    "\n",
    "## separating the data and labels\n",
    "X = diabetes_dataset.drop(columns = 'Outcome', axis=1)\n",
    "\n",
    "Y = diabetes_dataset['Outcome']\n",
    "\n",
    "## Train and test split\n",
    "X_train, X_test, Y_train, Y_test = train_test_split(X,Y, test_size = 0.2, stratify=Y, random_state=2)\n",
    "\n",
    "print(X.shape, X_train.shape, X_test.shape)\n",
    "\n",
    "## Creating the SVM object\n",
    "classifier = svm.SVC(kernel='linear')\n",
    "\n",
    "## training the support vector Machine Classifier\n",
    "classifier.fit(X_train, Y_train)\n",
    "\n",
    "## accuracy score on the training data\n",
    "X_train_prediction = classifier.predict(X_train)\n",
    "training_data_accuracy = accuracy_score(X_train_prediction, Y_train)\n",
    "\n",
    "print('Accuracy score of the training data : ', training_data_accuracy)\n",
    "\n",
    "## accuracy score on the test data\n",
    "X_test_prediction = classifier.predict(X_test)\n",
    "test_data_accuracy = accuracy_score(X_test_prediction, Y_test)\n",
    "\n",
    "print('Accuracy score of the test data : ', test_data_accuracy)\n",
    "\n",
    "# convert the model into a pickle file\n",
    "filename = 'diabetes_model.sav'\n",
    "pickle.dump(classifier, open(filename, 'wb'))"
   ]
  },
  {
   "cell_type": "code",
   "execution_count": 10,
   "id": "48a720fc-70a9-49c5-b8fc-e737afb6c18c",
   "metadata": {},
   "outputs": [
    {
     "name": "stdout",
     "output_type": "stream",
     "text": [
      "[0]\n"
     ]
    }
   ],
   "source": [
    "# Load the saved model\n",
    "loaded_model = pickle.load(open('diabetes_model.sav', 'rb'))\n",
    "\n",
    "# Make predictions on the new data such as X_test[0:1]\n",
    "predictions = loaded_model.predict(X_test[0:1])\n",
    "\n",
    "# Print the predictions\n",
    "print(predictions)"
   ]
  },
  {
   "cell_type": "code",
   "execution_count": null,
   "id": "f6f7a99b-7e92-4f19-a94b-053713e4283f",
   "metadata": {},
   "outputs": [],
   "source": []
  }
 ],
 "metadata": {
  "kernelspec": {
   "display_name": "Python 3 (ipykernel)",
   "language": "python",
   "name": "python3"
  },
  "language_info": {
   "codemirror_mode": {
    "name": "ipython",
    "version": 3
   },
   "file_extension": ".py",
   "mimetype": "text/x-python",
   "name": "python",
   "nbconvert_exporter": "python",
   "pygments_lexer": "ipython3",
   "version": "3.8.19"
  }
 },
 "nbformat": 4,
 "nbformat_minor": 5
}
